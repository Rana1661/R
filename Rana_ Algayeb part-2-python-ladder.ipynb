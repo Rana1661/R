{
 "cells": [
  {
   "cell_type": "markdown",
   "metadata": {
    "id": "WBJWvKLEiwrv"
   },
   "source": [
    "<img src=\"http://imgur.com/1ZcRyrc.png\" style=\"float: left; margin: 20px; height: 55px\" />\n",
    "\n",
    "# Python Ladder Challenge - Notebook 2\n",
    "\n",
    "_Author:_ Tim Book"
   ]
  },
  {
   "cell_type": "markdown",
   "metadata": {
    "id": "xBpmw8bfiwry"
   },
   "source": [
    "# Climb the Ladder!\n",
    "Our class moves quickly! Sometimes, it feels like we make leaps in logic that are a bit too big. Learn Python _slowly_, by doing many, many examples. Problems in this notebook start out easy and progressively get harder, so that the next rung of the Python ladder is always within reach."
   ]
  },
  {
   "cell_type": "markdown",
   "metadata": {
    "id": "6buBd_6hiwrz"
   },
   "source": [
    "# Section IV: Conditionals and Loops"
   ]
  },
  {
   "cell_type": "markdown",
   "metadata": {
    "id": "KJ1Rcyhyiwr0"
   },
   "source": [
    "34) Print out the numbers 1 through 10."
   ]
  },
  {
   "cell_type": "code",
   "execution_count": 4,
   "metadata": {
    "id": "wMNPc6kpiwr0"
   },
   "outputs": [
    {
     "name": "stdout",
     "output_type": "stream",
     "text": [
      "1\n",
      "2\n",
      "3\n",
      "4\n",
      "5\n",
      "6\n",
      "7\n",
      "8\n",
      "9\n",
      "10\n"
     ]
    }
   ],
   "source": [
    "for num in range(1,11):\n",
    "    print(num)"
   ]
  },
  {
   "cell_type": "markdown",
   "metadata": {
    "id": "VbooMTe0iwr2"
   },
   "source": [
    "35) Print out the odd numbers between 1 and 20 by using the third paramter to the `range()` function."
   ]
  },
  {
   "cell_type": "code",
   "execution_count": 10,
   "metadata": {
    "id": "GZkdeIjQiwr3"
   },
   "outputs": [
    {
     "name": "stdout",
     "output_type": "stream",
     "text": [
      "1\n",
      "3\n",
      "5\n",
      "7\n",
      "9\n",
      "11\n",
      "13\n",
      "15\n",
      "17\n",
      "19\n"
     ]
    }
   ],
   "source": [
    "for num in range(1,20,2):\n",
    "    print(num)"
   ]
  },
  {
   "cell_type": "markdown",
   "metadata": {
    "id": "eaM_2toLiwr3"
   },
   "source": [
    "36) Print out the odd numbers between 1 and 20 by checking if the number is even before printing."
   ]
  },
  {
   "cell_type": "code",
   "execution_count": 14,
   "metadata": {
    "id": "_bzZXzRwiwr3"
   },
   "outputs": [
    {
     "name": "stdout",
     "output_type": "stream",
     "text": [
      "1\n",
      "3\n",
      "5\n",
      "7\n",
      "9\n",
      "11\n",
      "13\n",
      "15\n",
      "17\n",
      "19\n"
     ]
    }
   ],
   "source": [
    "for number in range(1, 21):  \n",
    "    if number % 2 != 0:  \n",
    "        print(number)"
   ]
  },
  {
   "cell_type": "markdown",
   "metadata": {
    "id": "rKqs9o3Eiwr4"
   },
   "source": [
    "37) What is the sum of the first 100 integers? Hint: Create a variable `total` equal to zero, and increment `total` inside a loop."
   ]
  },
  {
   "cell_type": "code",
   "execution_count": 16,
   "metadata": {
    "id": "Y0AZiAsdiwr4"
   },
   "outputs": [
    {
     "name": "stdout",
     "output_type": "stream",
     "text": [
      "5050\n"
     ]
    }
   ],
   "source": [
    "total = 0\n",
    "for i in range(1, 101):\n",
    "    total += i\n",
    "print(total)"
   ]
  },
  {
   "cell_type": "markdown",
   "metadata": {
    "id": "UR4qx8EFiwr5"
   },
   "source": [
    "38) For each friend in your `friends` list, print `'PERSON IS AWESOME!'` in all caps, where `PERSON` is of course replaced with your friend's name."
   ]
  },
  {
   "cell_type": "code",
   "execution_count": 17,
   "metadata": {
    "id": "RRKAHL4ziwr5"
   },
   "outputs": [],
   "source": [
    "friends = [\"Alice\", \"Bob\", \"Charlie\", \"Debbie\"]"
   ]
  },
  {
   "cell_type": "code",
   "execution_count": 54,
   "metadata": {
    "id": "dSX3Grs5iwr5"
   },
   "outputs": [
    {
     "name": "stdout",
     "output_type": "stream",
     "text": [
      "ALICE IS AWESOME!\n",
      "BOB IS AWESOME!\n",
      "CHARLIE IS AWESOME!\n",
      "DEBBIE IS AWESOME!\n"
     ]
    }
   ],
   "source": [
    "for friend in friends:\n",
    "    print(f\"{friend.upper()} IS AWESOME!\")\n"
   ]
  },
  {
   "cell_type": "markdown",
   "metadata": {
    "id": "1kxBcbv5iwr6"
   },
   "source": [
    "39) Similar to the last problem, print `'PERSON IS AWESOME!'` for each friend in your friends list _only if their name ends in a vowel_. Otherwise, print `\"person is ok...\"` (all lowercase). "
   ]
  },
  {
   "cell_type": "code",
   "execution_count": 55,
   "metadata": {
    "id": "5E_TVNKqiwr6"
   },
   "outputs": [
    {
     "name": "stdout",
     "output_type": "stream",
     "text": [
      "ALICE IS AWESOME!\n",
      "bob is ok...\n",
      "CHARLIE IS AWESOME!\n",
      "DEBBIE IS AWESOME!\n"
     ]
    }
   ],
   "source": [
    "for friend in friends:\n",
    "    if friend[-1].lower() in ['a', 'e', 'i', 'o', 'u']:\n",
    "        print(f\"{friend.upper()} IS AWESOME!\")\n",
    "    else:\n",
    "        print(f\"{friend.lower()} is ok...\")\n"
   ]
  },
  {
   "cell_type": "markdown",
   "metadata": {
    "id": "9-bOBHK0iwr6"
   },
   "source": [
    "40) For each number between 1 and 30 (inclusive), if a number is divisible by 3, print `'Fizz'`. Otherwise, just print the number."
   ]
  },
  {
   "cell_type": "code",
   "execution_count": 44,
   "metadata": {
    "id": "R4yDZ-RTiwr7"
   },
   "outputs": [
    {
     "name": "stdout",
     "output_type": "stream",
     "text": [
      "1\n",
      "2\n",
      "Fizz\n",
      "4\n",
      "5\n",
      "Fizz\n",
      "7\n",
      "8\n",
      "Fizz\n",
      "10\n",
      "11\n",
      "Fizz\n",
      "13\n",
      "14\n",
      "Fizz\n",
      "16\n",
      "17\n",
      "Fizz\n",
      "19\n",
      "20\n",
      "Fizz\n",
      "22\n",
      "23\n",
      "Fizz\n",
      "25\n",
      "26\n",
      "Fizz\n",
      "28\n",
      "29\n",
      "Fizz\n"
     ]
    }
   ],
   "source": [
    "for num in range(1, 31):\n",
    "    if num % 3 == 0:\n",
    "        print(\"Fizz\")\n",
    "    else:\n",
    "        print(num)\n"
   ]
  },
  {
   "cell_type": "markdown",
   "metadata": {
    "id": "ovA-KM0piwr7"
   },
   "source": [
    "41) For each number between 1 and 30 (inclusive), if a number is divisible by 5, print `'Buzz'`. Otherwise, just print the number."
   ]
  },
  {
   "cell_type": "code",
   "execution_count": 45,
   "metadata": {
    "id": "F6afQdE7iwr7"
   },
   "outputs": [
    {
     "name": "stdout",
     "output_type": "stream",
     "text": [
      "1\n",
      "2\n",
      "3\n",
      "4\n",
      "Buzz\n",
      "6\n",
      "7\n",
      "8\n",
      "9\n",
      "Buzz\n",
      "11\n",
      "12\n",
      "13\n",
      "14\n",
      "Buzz\n",
      "16\n",
      "17\n",
      "18\n",
      "19\n",
      "Buzz\n",
      "21\n",
      "22\n",
      "23\n",
      "24\n",
      "Buzz\n",
      "26\n",
      "27\n",
      "28\n",
      "29\n",
      "Buzz\n"
     ]
    }
   ],
   "source": [
    "for num in range(1, 31):\n",
    "    if num % 5 == 0:\n",
    "        print(\"Buzz\")\n",
    "    else:\n",
    "        print(num)\n"
   ]
  },
  {
   "cell_type": "markdown",
   "metadata": {
    "id": "SOws-dKdiwr8"
   },
   "source": [
    "42) **FIZZBUZZ!** For each number between 1 and 30 (inclusive),\n",
    "* if a number is divisible by 3, print `'Fizz'`\n",
    "* if a number is divisible by 5, print `'Buzz'`\n",
    "* if a number is divisible by both 3 and 5, instead print `'FizzBuzz'`,\n",
    "* otherwise, just print the number\n",
    "\n",
    "This problem is the famous \"Fizzbuzz\" problem - and is a very common interview coding challenge! If you can do this without help, you're making awesome progress! Well done!"
   ]
  },
  {
   "cell_type": "code",
   "execution_count": 46,
   "metadata": {
    "id": "lv-45foLiwr8"
   },
   "outputs": [
    {
     "name": "stdout",
     "output_type": "stream",
     "text": [
      "1\n",
      "2\n",
      "Fizz\n",
      "4\n",
      "Buzz\n",
      "Fizz\n",
      "7\n",
      "8\n",
      "Fizz\n",
      "Buzz\n",
      "11\n",
      "Fizz\n",
      "13\n",
      "14\n",
      "FizzBuzz\n",
      "16\n",
      "17\n",
      "Fizz\n",
      "19\n",
      "Buzz\n",
      "Fizz\n",
      "22\n",
      "23\n",
      "Fizz\n",
      "Buzz\n",
      "26\n",
      "Fizz\n",
      "28\n",
      "29\n",
      "FizzBuzz\n"
     ]
    }
   ],
   "source": [
    "for num in range(1, 31):\n",
    "    if num % 3 == 0 and num % 5 == 0:\n",
    "        print(\"FizzBuzz\")\n",
    "    elif num % 3 == 0:\n",
    "        print(\"Fizz\")\n",
    "    elif num % 5 == 0:\n",
    "        print(\"Buzz\")\n",
    "    else:\n",
    "        print(num)\n"
   ]
  },
  {
   "cell_type": "markdown",
   "metadata": {
    "id": "73XChbDRiwr9"
   },
   "source": [
    "43) Define some string `sentence`. If you can't think of a good one, feel free to use `fact` from the previous notebook."
   ]
  },
  {
   "cell_type": "code",
   "execution_count": 89,
   "metadata": {
    "id": "IaHPLowbiwr9"
   },
   "outputs": [
    {
     "name": "stdout",
     "output_type": "stream",
     "text": [
      "Python programming is fun.\n"
     ]
    }
   ],
   "source": [
    "sentence = \"Python programming is fun.\"\n",
    "print(sentence)\n"
   ]
  },
  {
   "cell_type": "markdown",
   "metadata": {
    "id": "dzs9LuT5iwr-"
   },
   "source": [
    "44) Count the number of vowels in `sentence` (no, y is not a vowel).\n",
    "* _Hint:_ What happens if you loop through a string?"
   ]
  },
  {
   "cell_type": "code",
   "execution_count": 91,
   "metadata": {
    "id": "ZsqPyIpkiwr-"
   },
   "outputs": [
    {
     "data": {
      "text/plain": [
       "5"
      ]
     },
     "execution_count": 91,
     "metadata": {},
     "output_type": "execute_result"
    }
   ],
   "source": [
    "vowels = \"aeiou\"\n",
    "count = 0\n",
    " \n",
    "for v in vowels:\n",
    "        count+= 1\n",
    "\n",
    "count\n"
   ]
  },
  {
   "cell_type": "markdown",
   "metadata": {
    "id": "xUCwYOMQiwr_"
   },
   "source": [
    "45) Define a variable `sentence_rm` that is equal to `sentence` with all vowels removed. \n",
    "* _Hint:_ This is a tough one. Start out with an empty string and concatenate all of the consonants to it inside a loop."
   ]
  },
  {
   "cell_type": "code",
   "execution_count": 93,
   "metadata": {
    "id": "b8kzkURgiwr_"
   },
   "outputs": [
    {
     "name": "stdout",
     "output_type": "stream",
     "text": [
      "Pythn prgrmmng s fn.\n"
     ]
    }
   ],
   "source": [
    "sentence_rm = \"\"  \n",
    "\n",
    "for char in sentence:\n",
    "    if char.lower() not in vowels:  \n",
    "        sentence_rm += char          \n",
    "\n",
    "print(sentence_rm)"
   ]
  },
  {
   "cell_type": "markdown",
   "metadata": {
    "id": "h4nGcRV4iwr_"
   },
   "source": [
    "46) Create a variable `fav_number` equal to whatever is your favorite integer. Write a loop to determine if `fav_number` is prime. Recall that a prime number is any number whose only divisors are 1 and itself. For example, 6 is not prime since it's divisible by 1, 2, 3, and 6. But 7 _is_ prime since it's only divisible by 1 and 7."
   ]
  },
  {
   "cell_type": "code",
   "execution_count": 58,
   "metadata": {
    "id": "xGrwNkP1iwr_"
   },
   "outputs": [
    {
     "name": "stdout",
     "output_type": "stream",
     "text": [
      "39 is not prime\n"
     ]
    }
   ],
   "source": [
    "fav_number = 39\n",
    "count=0\n",
    "for i in range(2,fav_number+1):\n",
    "    if fav_number%i == 0:\n",
    "        count+=1\n",
    "\n",
    "if count >1:\n",
    "    print(f'{fav_number} is not prime')\n",
    "else:\n",
    "    print(f'{fav_number} is prime')\n"
   ]
  },
  {
   "cell_type": "markdown",
   "metadata": {
    "id": "gE_9ea9wiwsA"
   },
   "source": [
    "47) A palindromic number reads the same both ways. For example, 1234321 is a palindrome. Write an `if` statement to test whether or not a number is palindromic."
   ]
  },
  {
   "cell_type": "code",
   "execution_count": 94,
   "metadata": {
    "id": "mGCk4DWEiwsA"
   },
   "outputs": [
    {
     "name": "stdout",
     "output_type": "stream",
     "text": [
      "Number is palendromic\n"
     ]
    }
   ],
   "source": [
    "num = 1234321 \n",
    "num_str = str(num)\n",
    "\n",
    "if num_str[::] == num_str[::-1]:\n",
    "    print('Number is palendromic')\n",
    "else:\n",
    "    print('Number is NOT palendromic')"
   ]
  },
  {
   "cell_type": "code",
   "execution_count": 64,
   "metadata": {
    "id": "mGCk4DWEiwsA"
   },
   "outputs": [
    {
     "data": {
      "text/plain": [
       "'1234321'"
      ]
     },
     "execution_count": 64,
     "metadata": {},
     "output_type": "execute_result"
    }
   ],
   "source": [
    "num = 1234321  \n",
    "num_str = str(num)\n",
    "num_str[::-1]"
   ]
  },
  {
   "cell_type": "markdown",
   "metadata": {
    "id": "5g2Y6LEgiwsA"
   },
   "source": [
    "48) Find the largest palindrome made from the product of two two-digit numbers.\n",
    "* _Tip:_ Do not worry about the \"efficiency\" of your answer! The easiest answer is very inefficient."
   ]
  },
  {
   "cell_type": "code",
   "execution_count": 74,
   "metadata": {},
   "outputs": [
    {
     "data": {
      "text/plain": [
       "9009"
      ]
     },
     "execution_count": 74,
     "metadata": {},
     "output_type": "execute_result"
    }
   ],
   "source": [
    "largest = 0\n",
    "for a in range(10, 100):\n",
    "    for b in range(10, 100):\n",
    "        product = a * b\n",
    "        if str(product) == str(product)[::-1]:\n",
    "            if product > largest:\n",
    "                largest = product\n",
    "largest"
   ]
  },
  {
   "cell_type": "markdown",
   "metadata": {
    "id": "oBu7EenpiwsB"
   },
   "source": [
    "# Section V: List Comprehensions\n",
    "\n",
    "**Disclaimer:** Many (maybe all) of these exercises can be done without a list comprehension. However, listcomps are often the easiest way to solve a problem like this. Listcomps are also optimized in Python, meaning they are also often the _fastest_ way to solve a problem. In fact, **every problem in this section can be solved in one line of code!**\n",
    "\n",
    "---\n",
    "**IMPORTANT NOTE: Consider all ranges in this section to be *inclusive*.**"
   ]
  },
  {
   "cell_type": "markdown",
   "metadata": {
    "id": "NEgcijoPiwsB"
   },
   "source": [
    "49) Create a list of the numbers 1 through 10."
   ]
  },
  {
   "cell_type": "code",
   "execution_count": 75,
   "metadata": {
    "id": "LYXQSqDpiwsB"
   },
   "outputs": [
    {
     "name": "stdout",
     "output_type": "stream",
     "text": [
      "[1, 2, 3, 4, 5, 6, 7, 8, 9, 10]\n"
     ]
    }
   ],
   "source": [
    "numbers = [num for num in range(1, 11)]\n",
    "print(numbers)\n"
   ]
  },
  {
   "cell_type": "markdown",
   "metadata": {
    "id": "jmyRDvPXiwsC"
   },
   "source": [
    "50) Create a list of the squares of the numbers between 1 and 10."
   ]
  },
  {
   "cell_type": "code",
   "execution_count": 76,
   "metadata": {
    "id": "maYWsIPiiwsC"
   },
   "outputs": [
    {
     "name": "stdout",
     "output_type": "stream",
     "text": [
      "[1, 4, 9, 16, 25, 36, 49, 64, 81, 100]\n"
     ]
    }
   ],
   "source": [
    "squares = [num**2 for num in range(1, 11)]\n",
    "print(squares)\n"
   ]
  },
  {
   "cell_type": "markdown",
   "metadata": {
    "id": "6LctMdO9iwsC"
   },
   "source": [
    "51) Create a list of all the even numbers between 18 and 47."
   ]
  },
  {
   "cell_type": "code",
   "execution_count": 77,
   "metadata": {
    "id": "fG1D6Re8iwsD"
   },
   "outputs": [
    {
     "name": "stdout",
     "output_type": "stream",
     "text": [
      "[18, 20, 22, 24, 26, 28, 30, 32, 34, 36, 38, 40, 42, 44, 46]\n"
     ]
    }
   ],
   "source": [
    "evens = [num for num in range(18, 48) if num % 2 == 0]\n",
    "print(evens)\n"
   ]
  },
  {
   "cell_type": "markdown",
   "metadata": {
    "id": "twaEfRP3iwsD"
   },
   "source": [
    "52) Create a list of the squares of the even numbers between 1 and 20."
   ]
  },
  {
   "cell_type": "code",
   "execution_count": 78,
   "metadata": {
    "id": "8mEqeIsZiwsD"
   },
   "outputs": [
    {
     "name": "stdout",
     "output_type": "stream",
     "text": [
      "[4, 16, 36, 64, 100, 144, 196, 256, 324, 400]\n"
     ]
    }
   ],
   "source": [
    "even_squares = [num**2 for num in range(1, 21) if num % 2 == 0]\n",
    "print(even_squares)\n"
   ]
  },
  {
   "cell_type": "markdown",
   "metadata": {
    "id": "Ff_u9z6WiwsD"
   },
   "source": [
    "53) What is the sum of the cubes of the numbers between 7 and 37?"
   ]
  },
  {
   "cell_type": "code",
   "execution_count": 67,
   "metadata": {
    "id": "cLZBLJINiwsD"
   },
   "outputs": [
    {
     "name": "stdout",
     "output_type": "stream",
     "text": [
      "493768\n"
     ]
    }
   ],
   "source": [
    "total = sum(n**3 for n in range(7, 38))\n",
    "print(total)\n"
   ]
  },
  {
   "cell_type": "markdown",
   "metadata": {
    "id": "1tBkIEFciwsE"
   },
   "source": [
    "54) Create a list of all of the numbers divisible by either 3 or 5 (or both) between 1 and 30."
   ]
  },
  {
   "cell_type": "code",
   "execution_count": 70,
   "metadata": {
    "id": "htVgyfjZiwsE"
   },
   "outputs": [
    {
     "name": "stdout",
     "output_type": "stream",
     "text": [
      "[3, 5, 6, 9, 10, 12, 15, 18, 20, 21, 24, 25, 27, 30]\n"
     ]
    }
   ],
   "source": [
    "nums = [n for n in range(1, 31) if n % 3 == 0 or n % 5 == 0]\n",
    "print(nums)\n"
   ]
  },
  {
   "cell_type": "markdown",
   "metadata": {
    "id": "utUNYvRwiwsE"
   },
   "source": [
    "55) Redefine this list to be all uppercase."
   ]
  },
  {
   "cell_type": "code",
   "execution_count": 71,
   "metadata": {
    "id": "sTSLK_asiwsF"
   },
   "outputs": [],
   "source": [
    "friends = ['Alice', 'Bob', 'Charlie', 'Derek']"
   ]
  },
  {
   "cell_type": "code",
   "execution_count": 73,
   "metadata": {
    "id": "FPurmzESiwsF"
   },
   "outputs": [
    {
     "name": "stdout",
     "output_type": "stream",
     "text": [
      "['ALICE', 'BOB', 'CHARLIE', 'DEREK']\n"
     ]
    }
   ],
   "source": [
    "friends = [name.upper() for name in friends]\n",
    "print(friends)  \n"
   ]
  },
  {
   "cell_type": "markdown",
   "metadata": {
    "id": "v6aH-h8eiwsF",
    "tags": []
   },
   "source": [
    "56) Remove all elements from `friends` whose names do not end in a vowel."
   ]
  },
  {
   "cell_type": "code",
   "execution_count": 75,
   "metadata": {
    "id": "7F84ygaFiwsF"
   },
   "outputs": [
    {
     "name": "stdout",
     "output_type": "stream",
     "text": [
      "['ALICE', 'CHARLIE']\n"
     ]
    }
   ],
   "source": [
    "friends = [name for name in friends if name[-1].lower() in \"aeiou\"]\n",
    "print(friends) \n"
   ]
  },
  {
   "cell_type": "markdown",
   "metadata": {
    "id": "xos5GO1siwsG"
   },
   "source": [
    "57) Take the `sentence` you used earlier and remove the vowels again. This time, using a one-line list comprehension.\n",
    "\n",
    "* _Hint:_ You'll find the `.join()` method to be useful here."
   ]
  },
  {
   "cell_type": "code",
   "execution_count": 76,
   "metadata": {
    "id": "uvwU2yxtiwsG"
   },
   "outputs": [
    {
     "data": {
      "text/plain": [
       "'Python programming is fun.'"
      ]
     },
     "execution_count": 76,
     "metadata": {},
     "output_type": "execute_result"
    }
   ],
   "source": [
    "sentence"
   ]
  },
  {
   "cell_type": "code",
   "execution_count": 77,
   "metadata": {
    "id": "AzpHj1I2iwsG"
   },
   "outputs": [
    {
     "name": "stdout",
     "output_type": "stream",
     "text": [
      "Pythn prgrmmng s fn.\n"
     ]
    }
   ],
   "source": [
    "sentence_no_vowels = ''.join([ch for ch in sentence if ch.lower() not in \"aeiou\"])\n",
    "print(sentence_no_vowels)\n"
   ]
  },
  {
   "cell_type": "markdown",
   "metadata": {
    "id": "RJhwCBkBiwsG"
   },
   "source": [
    "58) You need to access Excel files that have names like `Jan 5.xlsx` or `Mar 15.xlsx`. Create a list of January 1 through January 31 like this. That is, create the list of: `['Jan 1.xlsx', 'Jan 2.xlsx', ... , 'Jan 31.xlsx']`."
   ]
  },
  {
   "cell_type": "code",
   "execution_count": 5,
   "metadata": {
    "id": "OYQQ0l5eiwsH"
   },
   "outputs": [
    {
     "data": {
      "text/plain": [
       "['Jan 1.xlsx',\n",
       " 'Jan 2.xlsx',\n",
       " 'Jan 3.xlsx',\n",
       " 'Jan 4.xlsx',\n",
       " 'Jan 5.xlsx',\n",
       " 'Jan 6.xlsx',\n",
       " 'Jan 7.xlsx',\n",
       " 'Jan 8.xlsx',\n",
       " 'Jan 9.xlsx',\n",
       " 'Jan 10.xlsx',\n",
       " 'Jan 11.xlsx',\n",
       " 'Jan 12.xlsx',\n",
       " 'Jan 13.xlsx',\n",
       " 'Jan 14.xlsx',\n",
       " 'Jan 15.xlsx',\n",
       " 'Jan 16.xlsx',\n",
       " 'Jan 17.xlsx',\n",
       " 'Jan 18.xlsx',\n",
       " 'Jan 19.xlsx',\n",
       " 'Jan 20.xlsx',\n",
       " 'Jan 21.xlsx',\n",
       " 'Jan 22.xlsx',\n",
       " 'Jan 23.xlsx',\n",
       " 'Jan 24.xlsx',\n",
       " 'Jan 25.xlsx',\n",
       " 'Jan 26.xlsx',\n",
       " 'Jan 27.xlsx',\n",
       " 'Jan 28.xlsx',\n",
       " 'Jan 29.xlsx',\n",
       " 'Jan 30.xlsx',\n",
       " 'Jan 31.xlsx']"
      ]
     },
     "execution_count": 5,
     "metadata": {},
     "output_type": "execute_result"
    }
   ],
   "source": [
    "files = [f'Jan {d}.xlsx' for d in range(1, 32)]\n",
    "files\n"
   ]
  },
  {
   "cell_type": "markdown",
   "metadata": {
    "id": "oQAU-pYmiwsH"
   },
   "source": [
    "59) Below is a list of amounts in euros. Create a new list, `dollars`, which is these amounts converted to U.S. dollars. There are 1.1 dollars per euro."
   ]
  },
  {
   "cell_type": "code",
   "execution_count": 6,
   "metadata": {
    "id": "af6Y7uu1iwsH"
   },
   "outputs": [],
   "source": [
    "euros = [4.50, 6.70, 3.25, 9.99, 12.75, 0.35]"
   ]
  },
  {
   "cell_type": "code",
   "execution_count": 7,
   "metadata": {
    "id": "5By5QEPZiwsH"
   },
   "outputs": [
    {
     "name": "stdout",
     "output_type": "stream",
     "text": [
      "[4.95, 7.37, 3.58, 10.99, 14.03, 0.39]\n"
     ]
    }
   ],
   "source": [
    "dollars = [round(e * 1.1, 2) for e in euros]\n",
    "print(dollars)\n"
   ]
  },
  {
   "cell_type": "markdown",
   "metadata": {
    "id": "DNWP04K9iwsH"
   },
   "source": [
    "60) Below is a list of heights in inches. In order to ride a roller coaster, you must be at least 5 feet tall (60 inches). Filter this list to be _only_ those heights tall enough to ride."
   ]
  },
  {
   "cell_type": "code",
   "execution_count": 21,
   "metadata": {
    "id": "OjW91_v6iwsI"
   },
   "outputs": [],
   "source": [
    "heights = [71, 48, 55, 65, 68, 60, 58, 53]"
   ]
  },
  {
   "cell_type": "code",
   "execution_count": 22,
   "metadata": {
    "id": "J3PwKda0iwsI"
   },
   "outputs": [
    {
     "name": "stdout",
     "output_type": "stream",
     "text": [
      "[71, 65, 68, 60]\n"
     ]
    }
   ],
   "source": [
    "tall_only = [h for h in heights if h >= 60]\n",
    "print(tall_only)\n"
   ]
  },
  {
   "cell_type": "markdown",
   "metadata": {
    "id": "qzaB1Sf3iwsI"
   },
   "source": [
    "61) Repeat the above exercise, except replace the lower heights with a `None` instead of dropping them.\n",
    "* _Hint:_ Python has an in-line `if` statement, sometimes called a _ternary operator_ that you might find useful here. For example:\n",
    "\n",
    "```\n",
    "print(\"Tall enough\" if 72 > 60 else \"Too short\")\n",
    "print(\"Tall enough\" if 52 > 60 else \"Too short\")\n",
    "```"
   ]
  },
  {
   "cell_type": "code",
   "execution_count": 23,
   "metadata": {
    "id": "Z2B10afOiwsI"
   },
   "outputs": [
    {
     "name": "stdout",
     "output_type": "stream",
     "text": [
      "[71, None, None, 65, 68, 60, None, None]\n"
     ]
    }
   ],
   "source": [
    "tall_or_none = [h if h >= 60 else None for h in heights]\n",
    "print(tall_or_none)\n"
   ]
  },
  {
   "cell_type": "markdown",
   "metadata": {
    "id": "ZX97R5iQiwsI"
   },
   "source": [
    "62) Here are more heights below. However, this time, the information is contained in a dictionary. Create a list of the names _and ONLY the names_ of the people who are tall enough to ride the roller coaster.\n",
    "\n",
    "* _Hint:_ How can you loop through a dictionary?"
   ]
  },
  {
   "cell_type": "code",
   "execution_count": 15,
   "metadata": {
    "id": "lhGRDFVciwsJ"
   },
   "outputs": [],
   "source": [
    "people = {\n",
    "    'Aaron': 58,\n",
    "    'Barbara': 66,\n",
    "    'Clarence': 62,\n",
    "    'Donovan': 55,\n",
    "    'Erika': 70,\n",
    "    'Fernando': 72\n",
    "}"
   ]
  },
  {
   "cell_type": "code",
   "execution_count": 16,
   "metadata": {
    "id": "CYTFb5iGiwsJ"
   },
   "outputs": [
    {
     "data": {
      "text/plain": [
       "['Barbara', 'Clarence', 'Erika', 'Fernando']"
      ]
     },
     "execution_count": 16,
     "metadata": {},
     "output_type": "execute_result"
    }
   ],
   "source": [
    "tall = [name for name, inches in people.items() if inches >= 60]\n",
    "tall\n"
   ]
  },
  {
   "cell_type": "markdown",
   "metadata": {
    "id": "upSYxwfZiwsJ"
   },
   "source": [
    "63) Below we have some more data on our classmates. This time, the dictionary values are test scores. A student's final grade is their _maximum_ score on these three tests. Create a list of the students' final grades."
   ]
  },
  {
   "cell_type": "code",
   "execution_count": 17,
   "metadata": {
    "id": "0uEuNSPgiwsJ"
   },
   "outputs": [],
   "source": [
    "people = {\n",
    "    'Aaron': [87, 52, 78],\n",
    "    'Barbara': [92, 79, 85],\n",
    "    'Clarence': [42, 68, 55],\n",
    "    'Donovan': [95, 100, 87],\n",
    "    'Erika': [62, 88, 47],\n",
    "    'Fernando': [84, 99, 0]\n",
    "}"
   ]
  },
  {
   "cell_type": "code",
   "execution_count": 19,
   "metadata": {
    "id": "kABvzuksiwsJ"
   },
   "outputs": [
    {
     "data": {
      "text/plain": [
       "[87, 92, 68, 100, 88, 99]"
      ]
     },
     "execution_count": 19,
     "metadata": {},
     "output_type": "execute_result"
    }
   ],
   "source": [
    "grades = [max(scores) for scores in people.values()]\n",
    "grades\n",
    "\n",
    "\n",
    "\n"
   ]
  },
  {
   "cell_type": "markdown",
   "metadata": {
    "id": "1BpurMR-iwsK"
   },
   "source": [
    "64) Repeat the above problem, except create a _dictionary_ of the final scores, where the dictionary keys are the names, and the dictionary values are the final grade.\n",
    "\n",
    "* _Hint:_ You can do **dictionary comprehension** to solve this problem! Yes, it exists!"
   ]
  },
  {
   "cell_type": "code",
   "execution_count": 20,
   "metadata": {
    "id": "GoNNXREziwsK"
   },
   "outputs": [
    {
     "data": {
      "text/plain": [
       "{'Aaron': 87,\n",
       " 'Barbara': 92,\n",
       " 'Clarence': 68,\n",
       " 'Donovan': 100,\n",
       " 'Erika': 88,\n",
       " 'Fernando': 99}"
      ]
     },
     "execution_count": 20,
     "metadata": {},
     "output_type": "execute_result"
    }
   ],
   "source": [
    "final_scores = {name: max(scores) for name, scores in people.items()}\n",
    "\n",
    "final_scores\n",
    "\n"
   ]
  },
  {
   "cell_type": "markdown",
   "metadata": {
    "id": "WE9WT1mliwsK"
   },
   "source": [
    "65) Using the two lists defined below, create the following resulting list:\n",
    "\n",
    "`['AZ', 'BY', 'CX', 'DW', 'EV']`\n",
    "\n",
    "* _Hint:_ Check out the `zip()` function."
   ]
  },
  {
   "cell_type": "code",
   "execution_count": 43,
   "metadata": {
    "id": "4wy9uEDHiwsK"
   },
   "outputs": [],
   "source": [
    "letters_a = ['A', 'B', 'C', 'D', 'E']\n",
    "letters_z = ['Z', 'Y', 'X', 'W', 'V']"
   ]
  },
  {
   "cell_type": "code",
   "execution_count": 45,
   "metadata": {
    "id": "JX04X5haiwsK"
   },
   "outputs": [
    {
     "name": "stdout",
     "output_type": "stream",
     "text": [
      "['AZ', 'BY', 'CX', 'DW', 'EV']\n"
     ]
    }
   ],
   "source": [
    "pairs = [a + z for a, z in zip(letters_a, letters_z)]\n",
    "print(pairs)  \n"
   ]
  },
  {
   "cell_type": "markdown",
   "metadata": {
    "id": "KYvXgRzQiwsL"
   },
   "source": [
    "66) Using `letters_a` defined in the previous problem, create the following list:\n",
    "\n",
    "```\n",
    "[\n",
    "    'A is letter 1 of the alphabet',\n",
    "    'B is letter 2 of the alphabet',\n",
    "    ...\n",
    "]\n",
    "```\n",
    "\n",
    "* _Hint:_ Checkout the `enumerate()` function."
   ]
  },
  {
   "cell_type": "code",
   "execution_count": 21,
   "metadata": {
    "id": "OoCHZ-34iwsL"
   },
   "outputs": [
    {
     "data": {
      "text/plain": [
       "['A is letter 1 of the alphabet',\n",
       " 'B is letter 2 of the alphabet',\n",
       " 'C is letter 3 of the alphabet',\n",
       " 'D is letter 4 of the alphabet',\n",
       " 'E is letter 5 of the alphabet']"
      ]
     },
     "execution_count": 21,
     "metadata": {},
     "output_type": "execute_result"
    }
   ],
   "source": [
    "letters_a = ['A', 'B', 'C', 'D', 'E']\n",
    "\n",
    "sentences = [f\"{ch} is letter {i} of the alphabet\" for i, ch in enumerate(letters_a, start=1)]\n",
    "sentences\n"
   ]
  },
  {
   "cell_type": "markdown",
   "metadata": {
    "id": "X9mOI8kZiwsL"
   },
   "source": [
    "# Section VI: Libraries, imports and some more math!"
   ]
  },
  {
   "cell_type": "markdown",
   "metadata": {
    "id": "u4qZI7WHiwsL"
   },
   "source": [
    "67) Import the `math` library"
   ]
  },
  {
   "cell_type": "code",
   "execution_count": 48,
   "metadata": {
    "id": "YIW1d1xjiwsL"
   },
   "outputs": [],
   "source": [
    "import math\n"
   ]
  },
  {
   "cell_type": "markdown",
   "metadata": {
    "id": "rexAnEQ_iwsM"
   },
   "source": [
    "68) The `math` library has a lot of cool stuff in it. For this problem, evaluate the following math expressions:"
   ]
  },
  {
   "cell_type": "markdown",
   "metadata": {
    "id": "AZjGdugkiwsM"
   },
   "source": [
    "a) $\\sin{\\frac{\\pi}{2}}$"
   ]
  },
  {
   "cell_type": "code",
   "execution_count": 51,
   "metadata": {
    "id": "b6of8J94iwsM"
   },
   "outputs": [
    {
     "data": {
      "text/plain": [
       "1.0"
      ]
     },
     "execution_count": 51,
     "metadata": {},
     "output_type": "execute_result"
    }
   ],
   "source": [
    "# take the sin of pi/2\n",
    "math.sin(math.pi / 2)\n",
    "\n"
   ]
  },
  {
   "cell_type": "markdown",
   "metadata": {
    "id": "61-hdGKRiwsM"
   },
   "source": [
    "b) $\\ln{\\sqrt{e}}$\n",
    "* _Hint:_ A logarithm with base $e$ is represented by just `log` in `math`. In fact, throughout the course, $\\log$ with no subscript will always denote the natural log (ie, log base $e$)."
   ]
  },
  {
   "cell_type": "code",
   "execution_count": 50,
   "metadata": {
    "id": "txrBeKbUiwsM"
   },
   "outputs": [
    {
     "data": {
      "text/plain": [
       "0.5"
      ]
     },
     "execution_count": 50,
     "metadata": {},
     "output_type": "execute_result"
    }
   ],
   "source": [
    "# get natural log of square root of e\n",
    "math.log(math.sqrt(math.e))\n"
   ]
  },
  {
   "cell_type": "markdown",
   "metadata": {
    "id": "Zf3xA7W0iwsN"
   },
   "source": [
    "c) $e^{3!}$\n"
   ]
  },
  {
   "cell_type": "code",
   "execution_count": 52,
   "metadata": {
    "id": "mwyCwqxeiwsN"
   },
   "outputs": [
    {
     "data": {
      "text/plain": [
       "403.4287934927351"
      ]
     },
     "execution_count": 52,
     "metadata": {},
     "output_type": "execute_result"
    }
   ],
   "source": [
    "math.exp(math.factorial(3))\n"
   ]
  },
  {
   "cell_type": "markdown",
   "metadata": {
    "id": "lisXiCD5iwsN"
   },
   "source": [
    "69) Two popular math functions are the \"round up\" and \"round down\" functions. In computer science, we call them the \"ceiling\" and \"floor\" functions. They're used and denoted as follows:\n",
    "\n",
    "* `ceil(3.8)` $= \\lceil 3.8 \\rceil = 4$\n",
    "* `ceil(3.2)` $= \\lceil 3.2 \\rceil = 4$\n",
    "* `floor(3.8)` $= \\lfloor 3.8 \\rfloor = 3$\n",
    "* `floor(3.2)` $= \\lfloor 3.2 \\rfloor = 3$\n",
    "\n",
    "We _only_ need these two functions out of the `math` library. Use an `import` statement to import _only_ these two functions and verify the above examples are true."
   ]
  },
  {
   "cell_type": "code",
   "execution_count": 57,
   "metadata": {
    "id": "1n-2gKFxiwsO"
   },
   "outputs": [
    {
     "name": "stdout",
     "output_type": "stream",
     "text": [
      "4\n",
      "4\n",
      "3\n",
      "3\n"
     ]
    }
   ],
   "source": [
    "from math import ceil, floor\n",
    "\n",
    "print(ceil(3.8))  \n",
    "print(ceil(3.2))  \n",
    "print(floor(3.8))\n",
    "print(floor(3.2)) \n"
   ]
  },
  {
   "cell_type": "markdown",
   "metadata": {
    "id": "8TgKNEvEiwsP"
   },
   "source": [
    "70) We can also _alias_ library names if they're too long and we will be using them often. As we will do many times in this course, import the following three libraries:\n",
    "\n",
    "* Import the `numpy` library, aliasing it as `np`\n",
    "* Import the `pandas` library, aliasing it as `pd`\n",
    "* Import the `matplotlib.pyplot` library and submodule, aliasing it as `plt`"
   ]
  },
  {
   "cell_type": "code",
   "execution_count": null,
   "metadata": {
    "id": "DsnuvAH7iwsP"
   },
   "outputs": [],
   "source": [
    "\n"
   ]
  },
  {
   "cell_type": "markdown",
   "metadata": {
    "id": "PQ2OsGD0iwsP"
   },
   "source": [
    "71) You can also import everything from a library all at once without needing to prefix it:\n",
    "\n",
    "`from math import *`\n",
    "\n",
    "For this question your task is: _never, **ever**_ do this.\n",
    "\n",
    "Why?\n",
    "1. It \"pollutes\" the namespace with variable names that could easily be overwritten on accident.\n",
    "    - For example, after the import we could accidentally define `sin = 'without'` then be surprised when `sin(0.5)` no longer works!\n",
    "2. It does not show the reader which module a given function came from. \n",
    "    - For example, we see above that `ceil` came from the `math` library since it was noted in the import.\n",
    "    - If we use * is much more difficult to determine which module `ceil` is from."
   ]
  },
  {
   "cell_type": "code",
   "execution_count": null,
   "metadata": {},
   "outputs": [],
   "source": []
  }
 ],
 "metadata": {
  "colab": {
   "provenance": []
  },
  "kernelspec": {
   "display_name": "Python 3 (ipykernel)",
   "language": "python",
   "name": "python3"
  },
  "language_info": {
   "codemirror_mode": {
    "name": "ipython",
    "version": 3
   },
   "file_extension": ".py",
   "mimetype": "text/x-python",
   "name": "python",
   "nbconvert_exporter": "python",
   "pygments_lexer": "ipython3",
   "version": "3.13.7"
  }
 },
 "nbformat": 4,
 "nbformat_minor": 4
}
